{
 "cells": [
  {
   "cell_type": "code",
   "execution_count": null,
   "metadata": {},
   "outputs": [],
   "source": [
    "# Import members.txt scraped file"
   ]
  },
  {
   "cell_type": "code",
   "execution_count": 1,
   "metadata": {},
   "outputs": [],
   "source": [
    "import re\n",
    "import pandas as pd\n",
    "import numpy as np\n",
    "from pandas import DataFrame\n",
    "import calendar\n",
    "import itertools\n",
    "\n",
    "from datetime import date, datetime, timedelta"
   ]
  },
  {
   "cell_type": "code",
   "execution_count": 3,
   "metadata": {},
   "outputs": [],
   "source": [
    "with open (\"members_2019_11_23.txt\", \"r\") as myfile:\n",
    "    data=myfile.read()"
   ]
  },
  {
   "cell_type": "code",
   "execution_count": 4,
   "metadata": {},
   "outputs": [],
   "source": [
    "x = data.split('\\n3-dots-h\\n')\n",
    "y = [w.replace('\\n', '; ') for w in x]\n",
    "y = y[1:]\n",
    "a = [w.replace('; Message', '') for w in y]\n",
    "df1 =pd.DataFrame(a)\n",
    "df2 = df1[0].str.split(';',expand=True)\n",
    "df2.rename(columns = {0: \"NAME\", 1:\"OTHER1\", 2: \"OTHER2\", 3:\"OTHER3\", 4:\"OTHER4\"}, inplace = True)"
   ]
  },
  {
   "cell_type": "code",
   "execution_count": 319,
   "metadata": {},
   "outputs": [],
   "source": [
    "pd.DataFrame(df2).to_csv('members_raw_'+ date.today().strftime('%Y_%m_%d')+'.csv')"
   ]
  },
  {
   "cell_type": "code",
   "execution_count": 5,
   "metadata": {},
   "outputs": [],
   "source": [
    "b = [w.replace('New Member; ', '') for w in a]\n",
    "b = [w.replace('Admin; ', '') for w in b]\n",
    "b = [re.sub(r'View.+posts?; ', '', w) for w in b]\n",
    "df3 =pd.DataFrame(b)\n",
    "df3 = df3[0].str.split(';',expand=True)\n",
    "df3.rename(columns = {0: \"NAME\", 1:\"JOINED\", 2: \"OTHER\"}, inplace = True)"
   ]
  },
  {
   "cell_type": "code",
   "execution_count": 317,
   "metadata": {},
   "outputs": [],
   "source": [
    "pd.DataFrame(df3).to_csv('members_clean_'+ date.today().strftime('%Y_%m_%d')+'.csv')"
   ]
  },
  {
   "cell_type": "markdown",
   "metadata": {},
   "source": [
    "### Isolating Dates"
   ]
  },
  {
   "cell_type": "code",
   "execution_count": 6,
   "metadata": {},
   "outputs": [],
   "source": [
    "#Added by:\n",
    "df3[['JOINED1', 'JOINED2']] = df3[\"JOINED\"].str.split(' on',expand=True)\n",
    "df3['NAME']= df3[\"NAME\"].str.strip()\n",
    "df3['JOINED']= df3[\"JOINED\"].str.strip()\n",
    "df3['OTHER']= df3[\"OTHER\"].str.strip()\n",
    "df3['JOINED1']= df3[\"JOINED1\"].str.strip()\n",
    "df3['JOINED2']= df3[\"JOINED2\"].str.strip()\n"
   ]
  },
  {
   "cell_type": "code",
   "execution_count": 7,
   "metadata": {},
   "outputs": [],
   "source": [
    "df3[\"DATES1\"] = pd.to_datetime(df3[\"JOINED2\"],errors='coerce')"
   ]
  },
  {
   "cell_type": "code",
   "execution_count": 8,
   "metadata": {},
   "outputs": [],
   "source": [
    "#dates with hours\n",
    "df3.loc[df3['JOINED'].str.contains('hour'), 'h'] = 0\n",
    "\n",
    "#dates with weekdays\n",
    "xtoday = [0,1,2,3,4,5,6]\n",
    "\n",
    "for j in xtoday:    \n",
    "    if date.today().weekday() > j: \n",
    "        df3.loc[df3['JOINED'].str.contains(calendar.day_name[j]), 'wd'] = date.today().weekday() - j\n",
    "    elif date.today().weekday() < j: \n",
    "        df3.loc[df3['JOINED'].str.contains(calendar.day_name[j]), 'wd'] = date.today().weekday() - (j-7)                \n",
    "    else:        \n",
    "        df3.loc[df3['JOINED'].str.contains(calendar.day_name[j]), 'wd'] = 7\n",
    "\n",
    "#dates with interval = 1\n",
    "df3.loc[df3['JOINED'].str.contains('Yesterday'), 'yes'] = 1\n",
    "df3.loc[df3['JOINED'] == 'Joined about a week ago', 'w1'] = 7\n",
    "df3.loc[df3['JOINED'] == 'Joined about a month ago', 'm1'] = 30\n",
    "df3.loc[df3['JOINED'] == 'Joined about a year ago', 'y1'] = 365\n",
    "\n",
    "#dates with interval >1\n",
    "df3['d'] = df3[df3['JOINED'].str.contains(\"days\")][\"JOINED\"].str.extract(\"(\\d*\\.?\\d+)\", expand=False)\n",
    "df3['w'] = df3[df3['JOINED'].str.contains(\"weeks\")][\"JOINED\"].str.extract(\"(\\d*\\.?\\d+)\", expand=False)\n",
    "df3['m'] = df3[df3['JOINED'].str.contains(\"months\")][\"JOINED\"].str.extract(\"(\\d*\\.?\\d+)\", expand=False)\n",
    "df3['y'] = df3[df3['JOINED'].str.contains(\"years\")][\"JOINED\"].str.extract(\"(\\d*\\.?\\d+)\", expand=False)\n",
    "df3['d'] = df3['d'].astype(float) * 1\n",
    "df3['w'] = df3['w'].astype(float) * 7\n",
    "df3['m'] = df3['m'].astype(float) * 30\n",
    "df3['y'] = df3['y'].astype(float) * 365\n"
   ]
  },
  {
   "cell_type": "code",
   "execution_count": 9,
   "metadata": {},
   "outputs": [],
   "source": [
    "df3['numbers']=df3['h'].combine_first(df3['wd'])\n",
    "df3['numbers']=df3['numbers'].combine_first(df3['yes'])\n",
    "df3['numbers']=df3['numbers'].combine_first(df3['w1'])\n",
    "df3['numbers']=df3['numbers'].combine_first(df3['m1'])\n",
    "df3['numbers']=df3['numbers'].combine_first(df3['y1'])\n",
    "df3['numbers']=df3['numbers'].combine_first(df3['d'])\n",
    "df3['numbers']=df3['numbers'].combine_first(df3['w'])\n",
    "df3['numbers']=df3['numbers'].combine_first(df3['m'])\n",
    "df3['numbers']=df3['numbers'].combine_first(df3['y'])"
   ]
  },
  {
   "cell_type": "code",
   "execution_count": 10,
   "metadata": {},
   "outputs": [],
   "source": [
    "dfint = DataFrame(df3['numbers'].dropna())\n",
    "dfint['DATES2']=[date.today() - timedelta(i) for i in dfint['numbers']]\n"
   ]
  },
  {
   "cell_type": "code",
   "execution_count": 11,
   "metadata": {},
   "outputs": [],
   "source": [
    "df3 ['DATESALL'] = df3['DATES1'].combine_first(dfint['DATES2'])"
   ]
  },
  {
   "cell_type": "code",
   "execution_count": 12,
   "metadata": {},
   "outputs": [],
   "source": [
    "df= df3[['NAME', 'DATESALL','JOINED','OTHER']]"
   ]
  },
  {
   "cell_type": "code",
   "execution_count": 322,
   "metadata": {},
   "outputs": [],
   "source": [
    "pd.DataFrame(df).to_csv('members_join_dates_'+ date.today().strftime('%Y_%m_%d')+'.csv')"
   ]
  },
  {
   "cell_type": "code",
   "execution_count": null,
   "metadata": {},
   "outputs": [],
   "source": []
  }
 ],
 "metadata": {
  "kernelspec": {
   "display_name": "Python 3",
   "language": "python",
   "name": "python3"
  },
  "language_info": {
   "codemirror_mode": {
    "name": "ipython",
    "version": 3
   },
   "file_extension": ".py",
   "mimetype": "text/x-python",
   "name": "python",
   "nbconvert_exporter": "python",
   "pygments_lexer": "ipython3",
   "version": "3.6.8"
  }
 },
 "nbformat": 4,
 "nbformat_minor": 2
}
