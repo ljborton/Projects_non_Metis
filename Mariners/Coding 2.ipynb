{
 "cells": [
  {
   "cell_type": "code",
   "execution_count": null,
   "metadata": {},
   "outputs": [],
   "source": [
    "The front office has brought in catcher f06c9fdf this offseason. \n",
    "Using the data provided, please prepare a report for a coaching staff audience to \n",
    "brief them on the player’s current strengths and weaknesses as a pitch receiver. \n",
    "The report (explanations and any visuals) should be less than two pages long. \n",
    "Please also submit the code used to generate the brief, though your process here is \n",
    "less important than the way you communicate your finding in the report.\n"
   ]
  },
  {
   "cell_type": "code",
   "execution_count": 1,
   "metadata": {},
   "outputs": [
    {
     "data": {
      "text/plain": [
       "<Figure size 1120x960 with 0 Axes>"
      ]
     },
     "metadata": {},
     "output_type": "display_data"
    }
   ],
   "source": [
    "import csv \n",
    "import pandas as pd \n",
    "import numpy as np\n",
    "import collections\n",
    "\n",
    "import matplotlib.pyplot as plt\n",
    "%matplotlib inline\n",
    "\n",
    "fig=plt.figure(figsize=(14, 12), dpi= 80, facecolor='w', edgecolor='k')\n",
    "\n",
    "pd.set_option('display.max_columns', None)"
   ]
  },
  {
   "cell_type": "code",
   "execution_count": 174,
   "metadata": {},
   "outputs": [
    {
     "data": {
      "text/html": [
       "<div>\n",
       "<style scoped>\n",
       "    .dataframe tbody tr th:only-of-type {\n",
       "        vertical-align: middle;\n",
       "    }\n",
       "\n",
       "    .dataframe tbody tr th {\n",
       "        vertical-align: top;\n",
       "    }\n",
       "\n",
       "    .dataframe thead th {\n",
       "        text-align: right;\n",
       "    }\n",
       "</style>\n",
       "<table border=\"1\" class=\"dataframe\">\n",
       "  <thead>\n",
       "    <tr style=\"text-align: right;\">\n",
       "      <th></th>\n",
       "      <th>pitcher_id</th>\n",
       "      <th>pitcher_side</th>\n",
       "      <th>batter_id</th>\n",
       "      <th>batter_side</th>\n",
       "      <th>stadium_id</th>\n",
       "      <th>umpire_id</th>\n",
       "      <th>catcher_id</th>\n",
       "      <th>inning</th>\n",
       "      <th>top_bottom</th>\n",
       "      <th>outs</th>\n",
       "      <th>balls</th>\n",
       "      <th>strikes</th>\n",
       "      <th>release_speed</th>\n",
       "      <th>vert_release_angle</th>\n",
       "      <th>horz_release_angle</th>\n",
       "      <th>spin_rate</th>\n",
       "      <th>spin_axis</th>\n",
       "      <th>tilt</th>\n",
       "      <th>rel_height</th>\n",
       "      <th>rel_side</th>\n",
       "      <th>extension</th>\n",
       "      <th>vert_break</th>\n",
       "      <th>induced_vert_break</th>\n",
       "      <th>horz_break</th>\n",
       "      <th>plate_height</th>\n",
       "      <th>plate_side</th>\n",
       "      <th>zone_speed</th>\n",
       "      <th>vert_approach_angle</th>\n",
       "      <th>horz_approach_angle</th>\n",
       "      <th>zone_time</th>\n",
       "      <th>x55</th>\n",
       "      <th>y55</th>\n",
       "      <th>z55</th>\n",
       "      <th>pitch_type</th>\n",
       "      <th>pitch_call</th>\n",
       "      <th>pitch_id</th>\n",
       "    </tr>\n",
       "  </thead>\n",
       "  <tbody>\n",
       "    <tr>\n",
       "      <th>0</th>\n",
       "      <td>d7e3acce</td>\n",
       "      <td>Right</td>\n",
       "      <td>32678d8d</td>\n",
       "      <td>Right</td>\n",
       "      <td>a4833794</td>\n",
       "      <td>f88d09f4</td>\n",
       "      <td>83cdf9ff</td>\n",
       "      <td>3</td>\n",
       "      <td>1</td>\n",
       "      <td>0.0</td>\n",
       "      <td>0</td>\n",
       "      <td>1</td>\n",
       "      <td>93.008102</td>\n",
       "      <td>-1.990750</td>\n",
       "      <td>-0.364950</td>\n",
       "      <td>1995.780029</td>\n",
       "      <td>-150.653000</td>\n",
       "      <td>1:00</td>\n",
       "      <td>5.97789</td>\n",
       "      <td>0.221744</td>\n",
       "      <td>6.45304</td>\n",
       "      <td>-12.477000</td>\n",
       "      <td>18.268900</td>\n",
       "      <td>9.38941</td>\n",
       "      <td>3.05034</td>\n",
       "      <td>0.555689</td>\n",
       "      <td>86.024200</td>\n",
       "      <td>-4.37258</td>\n",
       "      <td>1.429580</td>\n",
       "      <td>0.404622</td>\n",
       "      <td>-0.059343</td>\n",
       "      <td>55</td>\n",
       "      <td>6.03322</td>\n",
       "      <td>FA</td>\n",
       "      <td>InPlay</td>\n",
       "      <td>42fce2f6</td>\n",
       "    </tr>\n",
       "    <tr>\n",
       "      <th>1</th>\n",
       "      <td>44ec1bf5</td>\n",
       "      <td>Right</td>\n",
       "      <td>81d51733</td>\n",
       "      <td>Left</td>\n",
       "      <td>f60d6ea5</td>\n",
       "      <td>b67d862c</td>\n",
       "      <td>a126f66f</td>\n",
       "      <td>6</td>\n",
       "      <td>2</td>\n",
       "      <td>0.0</td>\n",
       "      <td>3</td>\n",
       "      <td>2</td>\n",
       "      <td>97.935898</td>\n",
       "      <td>-2.916730</td>\n",
       "      <td>-2.695220</td>\n",
       "      <td>2388.689941</td>\n",
       "      <td>-170.166000</td>\n",
       "      <td>12:15</td>\n",
       "      <td>6.18328</td>\n",
       "      <td>2.123090</td>\n",
       "      <td>6.37298</td>\n",
       "      <td>-10.453700</td>\n",
       "      <td>18.147200</td>\n",
       "      <td>2.89933</td>\n",
       "      <td>2.61284</td>\n",
       "      <td>-0.111897</td>\n",
       "      <td>89.458199</td>\n",
       "      <td>-4.90467</td>\n",
       "      <td>-2.148410</td>\n",
       "      <td>0.385719</td>\n",
       "      <td>-2.148680</td>\n",
       "      <td>55</td>\n",
       "      <td>6.23380</td>\n",
       "      <td>FA</td>\n",
       "      <td>InPlay</td>\n",
       "      <td>3e9cda86</td>\n",
       "    </tr>\n",
       "    <tr>\n",
       "      <th>2</th>\n",
       "      <td>44d87ee6</td>\n",
       "      <td>Left</td>\n",
       "      <td>8eefccb7</td>\n",
       "      <td>Right</td>\n",
       "      <td>a9b8b538</td>\n",
       "      <td>13993d26</td>\n",
       "      <td>9db4e46f</td>\n",
       "      <td>5</td>\n",
       "      <td>2</td>\n",
       "      <td>2.0</td>\n",
       "      <td>3</td>\n",
       "      <td>1</td>\n",
       "      <td>81.831398</td>\n",
       "      <td>-1.576020</td>\n",
       "      <td>1.045500</td>\n",
       "      <td>1966.949951</td>\n",
       "      <td>159.830994</td>\n",
       "      <td>11:15</td>\n",
       "      <td>6.12413</td>\n",
       "      <td>-1.294740</td>\n",
       "      <td>6.13114</td>\n",
       "      <td>-23.592199</td>\n",
       "      <td>17.337099</td>\n",
       "      <td>-6.18609</td>\n",
       "      <td>2.63461</td>\n",
       "      <td>-0.937995</td>\n",
       "      <td>75.593597</td>\n",
       "      <td>-6.00728</td>\n",
       "      <td>-0.122044</td>\n",
       "      <td>0.463953</td>\n",
       "      <td>1.300450</td>\n",
       "      <td>55</td>\n",
       "      <td>6.14750</td>\n",
       "      <td>CH</td>\n",
       "      <td>BallCalled</td>\n",
       "      <td>f129a6cd</td>\n",
       "    </tr>\n",
       "    <tr>\n",
       "      <th>3</th>\n",
       "      <td>ff6adae0</td>\n",
       "      <td>Right</td>\n",
       "      <td>8f8ab5af</td>\n",
       "      <td>Right</td>\n",
       "      <td>e569ec39</td>\n",
       "      <td>0d8ba4bb</td>\n",
       "      <td>bbbfd290</td>\n",
       "      <td>5</td>\n",
       "      <td>1</td>\n",
       "      <td>2.0</td>\n",
       "      <td>1</td>\n",
       "      <td>2</td>\n",
       "      <td>83.775703</td>\n",
       "      <td>-0.387083</td>\n",
       "      <td>-0.613163</td>\n",
       "      <td>2539.459961</td>\n",
       "      <td>54.268398</td>\n",
       "      <td>7:45</td>\n",
       "      <td>6.58357</td>\n",
       "      <td>1.665380</td>\n",
       "      <td>5.59444</td>\n",
       "      <td>-49.169498</td>\n",
       "      <td>-8.342350</td>\n",
       "      <td>-10.58620</td>\n",
       "      <td>2.17409</td>\n",
       "      <td>0.233674</td>\n",
       "      <td>76.396400</td>\n",
       "      <td>-9.50640</td>\n",
       "      <td>-2.581980</td>\n",
       "      <td>0.458471</td>\n",
       "      <td>-1.659590</td>\n",
       "      <td>55</td>\n",
       "      <td>6.60043</td>\n",
       "      <td>CU</td>\n",
       "      <td>InPlay</td>\n",
       "      <td>03e9bc05</td>\n",
       "    </tr>\n",
       "    <tr>\n",
       "      <th>4</th>\n",
       "      <td>c70c96e5</td>\n",
       "      <td>Right</td>\n",
       "      <td>10874746</td>\n",
       "      <td>Right</td>\n",
       "      <td>a5ce1bf6</td>\n",
       "      <td>94a4c552</td>\n",
       "      <td>75087ec8</td>\n",
       "      <td>8</td>\n",
       "      <td>1</td>\n",
       "      <td>2.0</td>\n",
       "      <td>2</td>\n",
       "      <td>1</td>\n",
       "      <td>91.208000</td>\n",
       "      <td>0.140618</td>\n",
       "      <td>-4.035290</td>\n",
       "      <td>2409.110107</td>\n",
       "      <td>246.348999</td>\n",
       "      <td>2:15</td>\n",
       "      <td>4.77355</td>\n",
       "      <td>1.495840</td>\n",
       "      <td>6.12665</td>\n",
       "      <td>-24.760099</td>\n",
       "      <td>8.488800</td>\n",
       "      <td>19.89060</td>\n",
       "      <td>2.84640</td>\n",
       "      <td>-0.703636</td>\n",
       "      <td>83.215302</td>\n",
       "      <td>-4.53233</td>\n",
       "      <td>-0.268188</td>\n",
       "      <td>0.415965</td>\n",
       "      <td>-1.526170</td>\n",
       "      <td>55</td>\n",
       "      <td>4.77332</td>\n",
       "      <td>FA</td>\n",
       "      <td>StrikeCalled</td>\n",
       "      <td>48feb675</td>\n",
       "    </tr>\n",
       "  </tbody>\n",
       "</table>\n",
       "</div>"
      ],
      "text/plain": [
       "  pitcher_id pitcher_side batter_id batter_side stadium_id umpire_id  \\\n",
       "0   d7e3acce        Right  32678d8d       Right   a4833794  f88d09f4   \n",
       "1   44ec1bf5        Right  81d51733        Left   f60d6ea5  b67d862c   \n",
       "2   44d87ee6         Left  8eefccb7       Right   a9b8b538  13993d26   \n",
       "3   ff6adae0        Right  8f8ab5af       Right   e569ec39  0d8ba4bb   \n",
       "4   c70c96e5        Right  10874746       Right   a5ce1bf6  94a4c552   \n",
       "\n",
       "  catcher_id  inning  top_bottom  outs  balls  strikes  release_speed  \\\n",
       "0   83cdf9ff       3           1   0.0      0        1      93.008102   \n",
       "1   a126f66f       6           2   0.0      3        2      97.935898   \n",
       "2   9db4e46f       5           2   2.0      3        1      81.831398   \n",
       "3   bbbfd290       5           1   2.0      1        2      83.775703   \n",
       "4   75087ec8       8           1   2.0      2        1      91.208000   \n",
       "\n",
       "   vert_release_angle  horz_release_angle    spin_rate   spin_axis   tilt  \\\n",
       "0           -1.990750           -0.364950  1995.780029 -150.653000   1:00   \n",
       "1           -2.916730           -2.695220  2388.689941 -170.166000  12:15   \n",
       "2           -1.576020            1.045500  1966.949951  159.830994  11:15   \n",
       "3           -0.387083           -0.613163  2539.459961   54.268398   7:45   \n",
       "4            0.140618           -4.035290  2409.110107  246.348999   2:15   \n",
       "\n",
       "   rel_height  rel_side  extension  vert_break  induced_vert_break  \\\n",
       "0     5.97789  0.221744    6.45304  -12.477000           18.268900   \n",
       "1     6.18328  2.123090    6.37298  -10.453700           18.147200   \n",
       "2     6.12413 -1.294740    6.13114  -23.592199           17.337099   \n",
       "3     6.58357  1.665380    5.59444  -49.169498           -8.342350   \n",
       "4     4.77355  1.495840    6.12665  -24.760099            8.488800   \n",
       "\n",
       "   horz_break  plate_height  plate_side  zone_speed  vert_approach_angle  \\\n",
       "0     9.38941       3.05034    0.555689   86.024200             -4.37258   \n",
       "1     2.89933       2.61284   -0.111897   89.458199             -4.90467   \n",
       "2    -6.18609       2.63461   -0.937995   75.593597             -6.00728   \n",
       "3   -10.58620       2.17409    0.233674   76.396400             -9.50640   \n",
       "4    19.89060       2.84640   -0.703636   83.215302             -4.53233   \n",
       "\n",
       "   horz_approach_angle  zone_time       x55  y55      z55 pitch_type  \\\n",
       "0             1.429580   0.404622 -0.059343   55  6.03322         FA   \n",
       "1            -2.148410   0.385719 -2.148680   55  6.23380         FA   \n",
       "2            -0.122044   0.463953  1.300450   55  6.14750         CH   \n",
       "3            -2.581980   0.458471 -1.659590   55  6.60043         CU   \n",
       "4            -0.268188   0.415965 -1.526170   55  4.77332         FA   \n",
       "\n",
       "     pitch_call  pitch_id  \n",
       "0        InPlay  42fce2f6  \n",
       "1        InPlay  3e9cda86  \n",
       "2    BallCalled  f129a6cd  \n",
       "3        InPlay  03e9bc05  \n",
       "4  StrikeCalled  48feb675  "
      ]
     },
     "execution_count": 174,
     "metadata": {},
     "output_type": "execute_result"
    }
   ],
   "source": [
    "df = pd.read_csv('2020-train.csv')\n",
    "df.head()"
   ]
  },
  {
   "cell_type": "code",
   "execution_count": 175,
   "metadata": {},
   "outputs": [],
   "source": [
    "df['ball_strike'] = np.where(df['pitch_call'].isin (['HitByPitch','BallCalled','BallIntentional']), 0 , 1)"
   ]
  },
  {
   "cell_type": "code",
   "execution_count": 297,
   "metadata": {},
   "outputs": [],
   "source": [
    "dfcatch = df[df['catcher_id'] =='f06c9fdf']\n",
    "dfcatcho = df[df['catcher_id'] !='f06c9fdf']"
   ]
  },
  {
   "cell_type": "code",
   "execution_count": 180,
   "metadata": {},
   "outputs": [
    {
     "name": "stdout",
     "output_type": "stream",
     "text": [
      "(8822, 37) (573383, 37)\n"
     ]
    }
   ],
   "source": [
    "print(dfcatch.shape,dfcatcho.shape)"
   ]
  },
  {
   "cell_type": "code",
   "execution_count": 298,
   "metadata": {},
   "outputs": [],
   "source": [
    "#Only concerned about BallCalled & StrikeCalled\n",
    "x = dfcatch[(dfcatch['pitch_call'] == 'StrikeCalled') | (dfcatch['pitch_call'] == 'BallCalled')]\n",
    "xo = dfcatcho[(dfcatcho['pitch_call'] == 'StrikeCalled') | (dfcatcho['pitch_call'] == 'BallCalled')]"
   ]
  },
  {
   "cell_type": "code",
   "execution_count": 83,
   "metadata": {},
   "outputs": [
    {
     "data": {
      "text/plain": [
       "((4832, 37), (302984, 37))"
      ]
     },
     "execution_count": 83,
     "metadata": {},
     "output_type": "execute_result"
    }
   ],
   "source": [
    "x.shape, xo.shape"
   ]
  },
  {
   "cell_type": "markdown",
   "metadata": {},
   "source": [
    "## Called Strikes by Zone: All, Pitch Type, Pitcher Hand, Batter Hand"
   ]
  },
  {
   "cell_type": "markdown",
   "metadata": {},
   "source": [
    "Strike Zone from Catcher's Perspective\n",
    "<img src='zone_cells.png'>"
   ]
  },
  {
   "cell_type": "markdown",
   "metadata": {},
   "source": [
    "Strike zone dimensions         \n",
    "Plate width: 17 inches = 1.41666 feet    \n",
    "+/- 0.71 ft from center of plate        \n",
    "Average height of bottom of zone: 1.5 ft\n",
    "Average height of top of zone: 3.5ft    \n",
    "2.5ft +/- 1 ft\n"
   ]
  },
  {
   "cell_type": "code",
   "execution_count": 294,
   "metadata": {},
   "outputs": [],
   "source": [
    "def all(temp1, temp1o):\n",
    "    all_ball = temp1.groupby(['pitch_call']).agg({'pitch_call':'count'})\n",
    "    all_type = temp1.agg({'pitch_call': 'count'})\n",
    "    temp = all_ball.div(all_type,level = 'pitch_call')\n",
    "    print ('Catcher: {}'.format (collections.Counter(temp1['pitch_call']).most_common()))\n",
    "    \n",
    "    all_ball = temp1o.groupby(['pitch_call']).agg({'pitch_call':'count'})\n",
    "    all_type = temp1o.agg({'pitch_call': 'count'})\n",
    "    tempo = all_ball.div(all_type,level = 'pitch_call')\n",
    "    print ('Others: {}'.format (collections.Counter(temp1o['pitch_call']).most_common()))\n",
    "    \n",
    "    diff = (temp-tempo) * 100\n",
    "    total = pd.concat([temp, tempo, diff], axis=1, sort=False).dropna()\n",
    "    print (total)\n",
    "    \n",
    "def type(temp1, temp1o):\n",
    "    pitch_type_ball = temp1.groupby(['pitch_type','pitch_call']).agg({'pitch_call':'count'})\n",
    "    pitch_type = temp1.groupby(['pitch_type']).agg({'pitch_call': 'count'})\n",
    "    temp = pitch_type_ball.div(pitch_type,level = 'pitch_type')\n",
    "    print ('Catcher: {}'.format (collections.Counter(temp1['pitch_type']).most_common()))\n",
    "    \n",
    "    pitch_type_ball = temp1o.groupby(['pitch_type','pitch_call']).agg({'pitch_call':'count'})\n",
    "    pitch_type= temp1o.groupby(['pitch_type']).agg({'pitch_call': 'count'})\n",
    "    tempo = pitch_type_ball.div(pitch_type,level = 'pitch_type')\n",
    "    print ('Others: {}'.format (collections.Counter(temp1o['pitch_type']).most_common()))\n",
    "    \n",
    "    diff = (temp - tempo) * 100\n",
    "    total = pd.concat([temp, tempo, diff], axis=1, sort=False).dropna()\n",
    "    print (total)\n",
    "    \n",
    "def pitcher(temp1, temp1o):\n",
    "    pitcher_side_ball = temp1.groupby(['pitcher_side','pitch_call']).agg({'pitch_call':'count'})\n",
    "    pitcher_side = temp1.groupby(['pitcher_side']).agg({'pitch_call': 'count'})\n",
    "    temp = pitcher_side_ball.div(pitcher_side,level = 'pitcher_side')\n",
    "    print ('Catcher: {}'.format (collections.Counter(temp1['pitcher_side']).most_common()))\n",
    "    \n",
    "    pitcher_side_ball = temp1o.groupby(['pitcher_side','pitch_call']).agg({'pitch_call':'count'})\n",
    "    pitcher_side= temp1o.groupby(['pitcher_side']).agg({'pitch_call': 'count'})\n",
    "    tempo = pitcher_side_ball.div(pitcher_side,level = 'pitcher_side')\n",
    "    print ('Others: {}'.format (collections.Counter(temp1o['pitcher_side']).most_common()))\n",
    "    \n",
    "    diff = (temp - tempo) * 100\n",
    "    total = pd.concat([temp, tempo, diff], axis=1, sort=False).dropna()\n",
    "    print (total)\n",
    "         \n",
    "def batter(temp1, temp1o):\n",
    "    batter_side_ball = temp1.groupby(['batter_side','pitch_call']).agg({'pitch_call':'count'})\n",
    "    batter_side = temp1.groupby(['batter_side']).agg({'pitch_call': 'count'})\n",
    "    temp = batter_side_ball.div(batter_side,level = 'batter_side')\n",
    "    print ('Catcher: {}'.format (collections.Counter(temp1['batter_side']).most_common()))\n",
    "        \n",
    "    batter_side_ball = temp1o.groupby(['batter_side','pitch_call']).agg({'pitch_call':'count'})\n",
    "    batter_side = temp1o.groupby(['batter_side']).agg({'pitch_call': 'count'})\n",
    "    tempo = batter_side_ball.div(batter_side,level = 'batter_side')\n",
    "    print ('Others: {}'.format (collections.Counter(temp1o['batter_side']).most_common()))\n",
    "        \n",
    "    diff = (temp - tempo) * 100\n",
    "    total = pd.concat([temp, tempo, diff], axis=1, sort=False).dropna()\n",
    "    print (total)"
   ]
  },
  {
   "cell_type": "markdown",
   "metadata": {},
   "source": [
    "### Zone 11"
   ]
  },
  {
   "cell_type": "code",
   "execution_count": 299,
   "metadata": {},
   "outputs": [
    {
     "name": "stdout",
     "output_type": "stream",
     "text": [
      "Catcher: [('BallCalled', 704), ('StrikeCalled', 79)]\n",
      "Others: [('BallCalled', 42303), ('StrikeCalled', 4777)]\n",
      "              pitch_call  pitch_call  pitch_call\n",
      "pitch_call                                      \n",
      "BallCalled      0.899106    0.898534    0.057159\n",
      "StrikeCalled    0.100894    0.101466   -0.057159\n",
      "Catcher: [('FA', 516), ('CH', 111), ('SL', 80), ('CU', 74), ('XX', 2)]\n",
      "Others: [('FA', 32289), ('SL', 6143), ('CU', 4327), ('CH', 4171), ('KN', 81), ('XX', 36), (nan, 33)]\n",
      "                         pitch_call  pitch_call  pitch_call\n",
      "pitch_type pitch_call                                      \n",
      "CH         BallCalled      0.882883    0.905538   -2.265536\n",
      "           StrikeCalled    0.117117    0.094462    2.265536\n",
      "CU         BallCalled      0.864865    0.861336    0.352907\n",
      "           StrikeCalled    0.135135    0.138664   -0.352907\n",
      "FA         BallCalled      0.910853    0.908514    0.233898\n",
      "           StrikeCalled    0.089147    0.091486   -0.233898\n",
      "SL         BallCalled      0.875000    0.867980    0.702019\n",
      "           StrikeCalled    0.125000    0.132020   -0.702019\n",
      "XX         BallCalled      1.000000    0.916667    8.333333\n",
      "Catcher: [('Right', 568), ('Left', 215)]\n",
      "Others: [('Right', 39044), ('Left', 8029), ('R', 5), ('L', 2)]\n",
      "                           pitch_call  pitch_call  pitch_call\n",
      "pitcher_side pitch_call                                      \n",
      "Left         BallCalled       0.87907    0.874829    0.424102\n",
      "             StrikeCalled     0.12093    0.125171   -0.424102\n",
      "Right        BallCalled       0.90669    0.903391    0.329909\n",
      "             StrikeCalled     0.09331    0.096609   -0.329909\n",
      "Catcher: [('Left', 436), ('Right', 347)]\n",
      "Others: [('Left', 27810), ('Right', 19263), ('L', 4), ('R', 3)]\n",
      "                          pitch_call  pitch_call  pitch_call\n",
      "batter_side pitch_call                                      \n",
      "Left        BallCalled      0.892202    0.887379    0.482319\n",
      "            StrikeCalled    0.107798    0.112621   -0.482319\n",
      "Right       BallCalled      0.907781    0.914603   -0.682215\n",
      "            StrikeCalled    0.092219    0.085397    0.682215\n"
     ]
    }
   ],
   "source": [
    "temp3 = x[(x['plate_height'] >2.5) & (x['plate_side'] >.71) ]\n",
    "temp2 = x[(x['plate_height'] >3.5) & (x['plate_side'] <.71)&(x['plate_side'] > 0) ]\n",
    "temp3o = xo[(xo['plate_height'] > 2.5)  & (xo['plate_side'] >.71)]\n",
    "temp2o = xo[(xo['plate_height'] >3.5) & (xo['plate_side'] <.71)&(xo['plate_side'] > 0) ]\n",
    "temp1 = pd.concat([temp3,temp2])\n",
    "temp1o = pd.concat([temp3o,temp2o])\n",
    "\n",
    "all(temp1,temp1o)\n",
    "type(temp1,temp1o)\n",
    "pitcher(temp1,temp1o)\n",
    "batter(temp1,temp1o)"
   ]
  },
  {
   "cell_type": "markdown",
   "metadata": {},
   "source": [
    "### Zone 12"
   ]
  },
  {
   "cell_type": "code",
   "execution_count": 300,
   "metadata": {},
   "outputs": [
    {
     "name": "stderr",
     "output_type": "stream",
     "text": [
      "/anaconda3/lib/python3.6/site-packages/ipykernel_launcher.py:3: UserWarning: Boolean Series key will be reindexed to match DataFrame index.\n",
      "  This is separate from the ipykernel package so we can avoid doing imports until\n"
     ]
    },
    {
     "name": "stdout",
     "output_type": "stream",
     "text": [
      "Catcher: [('BallCalled', 436), ('StrikeCalled', 66)]\n",
      "Others: [('BallCalled', 31698), ('StrikeCalled', 4654)]\n",
      "              pitch_call  pitch_call  pitch_call\n",
      "pitch_call                                      \n",
      "BallCalled      0.868526    0.871974   -0.344814\n",
      "StrikeCalled    0.131474    0.128026    0.344814\n",
      "Catcher: [('FA', 317), ('SL', 94), ('CH', 70), ('CU', 20), ('XX', 1)]\n",
      "Others: [('FA', 25435), ('SL', 5763), ('CU', 2595), ('CH', 2408), ('KN', 89), ('XX', 34), (nan, 28)]\n",
      "                         pitch_call  pitch_call  pitch_call\n",
      "pitch_type pitch_call                                      \n",
      "CH         BallCalled      0.885714    0.873754    1.196013\n",
      "           StrikeCalled    0.114286    0.126246   -1.196013\n",
      "CU         BallCalled      0.900000    0.823507    7.649326\n",
      "           StrikeCalled    0.100000    0.176493   -7.649326\n",
      "FA         BallCalled      0.886435    0.885316    0.111982\n",
      "           StrikeCalled    0.113565    0.114684   -0.111982\n",
      "SL         BallCalled      0.787234    0.835329   -4.809478\n",
      "           StrikeCalled    0.212766    0.164671    4.809478\n",
      "XX         BallCalled      1.000000    0.911765    8.823529\n",
      "Catcher: [('Left', 256), ('Right', 246)]\n",
      "Others: [('Right', 20241), ('Left', 16107), ('R', 2), ('L', 2)]\n",
      "                           pitch_call  pitch_call  pitch_call\n",
      "pitcher_side pitch_call                                      \n",
      "Left         BallCalled      0.906250    0.886199    2.005145\n",
      "             StrikeCalled    0.093750    0.113801   -2.005145\n",
      "Right        BallCalled      0.829268    0.860679   -3.141053\n",
      "             StrikeCalled    0.170732    0.139321    3.141053\n",
      "Catcher: [('Right', 324), ('Left', 178)]\n",
      "Others: [('Right', 25630), ('Left', 10718), ('R', 3), ('L', 1)]\n",
      "                          pitch_call  pitch_call  pitch_call\n",
      "batter_side pitch_call                                      \n",
      "Left        BallCalled      0.926966    0.916589    1.037738\n",
      "            StrikeCalled    0.073034    0.083411   -1.037738\n",
      "Right       BallCalled      0.836420    0.853336   -1.691618\n",
      "            StrikeCalled    0.163580    0.146664    1.691618\n"
     ]
    }
   ],
   "source": [
    "temp3 = x[(x['plate_height'] >2.5) & (x['plate_side'] <-.71) ]\n",
    "temp2 = x[(x['plate_height'] >3.5) & (x['plate_side'] >-.71)&(x['plate_side'] < 0) ]\n",
    "temp3o = xo[(dfcatcho['plate_height'] > 2.5)  & (xo['plate_side'] <-.71)]\n",
    "temp2o = xo[(xo['plate_height'] >3.5) & (xo['plate_side'] >-.71)&(xo['plate_side'] < 0) ]\n",
    "temp1 = pd.concat([temp3,temp2])\n",
    "temp1o = pd.concat([temp3o,temp2o])\n",
    "\n",
    "all(temp1,temp1o)\n",
    "type(temp1,temp1o)\n",
    "pitcher(temp1,temp1o)\n",
    "batter(temp1,temp1o)"
   ]
  },
  {
   "cell_type": "markdown",
   "metadata": {},
   "source": [
    "### Zone 13"
   ]
  },
  {
   "cell_type": "code",
   "execution_count": 301,
   "metadata": {},
   "outputs": [
    {
     "name": "stdout",
     "output_type": "stream",
     "text": [
      "Catcher: [('BallCalled', 1001), ('StrikeCalled', 114)]\n",
      "Others: [('BallCalled', 50262), ('StrikeCalled', 7911)]\n",
      "              pitch_call  pitch_call  pitch_call\n",
      "pitch_call                                      \n",
      "BallCalled      0.897758    0.864009    3.374877\n",
      "StrikeCalled    0.102242    0.135991   -3.374877\n",
      "Catcher: [('FA', 510), ('SL', 253), ('CH', 228), ('CU', 124)]\n",
      "Others: [('FA', 27932), ('SL', 12650), ('CH', 10438), ('CU', 7079), (nan, 47), ('XX', 20), ('KN', 7)]\n",
      "                         pitch_call  pitch_call  pitch_call\n",
      "pitch_type pitch_call                                      \n",
      "CH         BallCalled      0.956140    0.931692    2.444846\n",
      "           StrikeCalled    0.043860    0.068308   -2.444846\n",
      "CU         BallCalled      0.943548    0.888402    5.514607\n",
      "           StrikeCalled    0.056452    0.111598   -5.514607\n",
      "FA         BallCalled      0.837255    0.821388    1.586725\n",
      "           StrikeCalled    0.162745    0.178612   -1.586725\n",
      "SL         BallCalled      0.944664    0.888538    5.612648\n",
      "           StrikeCalled    0.055336    0.111462   -5.612648\n",
      "Catcher: [('Right', 595), ('Left', 520)]\n",
      "Others: [('Right', 33935), ('Left', 24226), ('L', 7), ('R', 5)]\n",
      "                           pitch_call  pitch_call  pitch_call\n",
      "pitcher_side pitch_call                                      \n",
      "Left         BallCalled       0.92500    0.913853    1.114711\n",
      "             StrikeCalled     0.07500    0.086147   -1.114711\n",
      "Right        BallCalled       0.87395    0.828407    4.554233\n",
      "             StrikeCalled     0.12605    0.171593   -4.554233\n",
      "Catcher: [('Left', 596), ('Right', 519)]\n",
      "Others: [('Left', 32704), ('Right', 25457), ('L', 9), ('R', 3)]\n",
      "                          pitch_call  pitch_call  pitch_call\n",
      "batter_side pitch_call                                      \n",
      "Left        BallCalled      0.894295    0.832681    6.161428\n",
      "            StrikeCalled    0.105705    0.167319   -6.161428\n",
      "Right       BallCalled      0.901734    0.904231   -0.249656\n",
      "            StrikeCalled    0.098266    0.095769    0.249656\n"
     ]
    }
   ],
   "source": [
    "temp3 = x[(x['plate_height'] <2.5) & (x['plate_side'] >.71) ]\n",
    "temp2 = x[(x['plate_height'] <1.5) & (x['plate_side'] <.71)&(x['plate_side'] > 0) ]\n",
    "temp3o = xo[(xo['plate_height'] <2.5)  & (xo['plate_side'] >.71)]\n",
    "temp2o = xo[(xo['plate_height'] <1.5) & (xo['plate_side'] <.71)&(xo['plate_side'] > 0) ]\n",
    "temp1 = pd.concat([temp3,temp2])\n",
    "temp1o = pd.concat([temp3o,temp2o])\n",
    "\n",
    "all(temp1,temp1o)\n",
    "type(temp1,temp1o)\n",
    "pitcher(temp1,temp1o)\n",
    "batter(temp1,temp1o)"
   ]
  },
  {
   "cell_type": "markdown",
   "metadata": {},
   "source": [
    "### Zone 14"
   ]
  },
  {
   "cell_type": "code",
   "execution_count": 302,
   "metadata": {
    "scrolled": true
   },
   "outputs": [
    {
     "name": "stderr",
     "output_type": "stream",
     "text": [
      "/anaconda3/lib/python3.6/site-packages/ipykernel_launcher.py:3: UserWarning: Boolean Series key will be reindexed to match DataFrame index.\n",
      "  This is separate from the ipykernel package so we can avoid doing imports until\n"
     ]
    },
    {
     "name": "stdout",
     "output_type": "stream",
     "text": [
      "Catcher: [('BallCalled', 1154), ('StrikeCalled', 79)]\n",
      "Others: [('BallCalled', 74164), ('StrikeCalled', 8987)]\n",
      "              pitch_call  pitch_call  pitch_call\n",
      "pitch_call                                      \n",
      "BallCalled      0.935929     0.89192    4.400911\n",
      "StrikeCalled    0.064071     0.10808   -4.400911\n",
      "Catcher: [('FA', 480), ('SL', 371), ('CH', 192), ('CU', 190)]\n",
      "Others: [('FA', 34749), ('SL', 25968), ('CU', 11569), ('CH', 10730), ('KN', 64), (nan, 52), ('XX', 19)]\n",
      "                         pitch_call  pitch_call  pitch_call\n",
      "pitch_type pitch_call                                      \n",
      "CH         BallCalled      0.979167    0.942404    3.676219\n",
      "           StrikeCalled    0.020833    0.057596   -3.676219\n",
      "CU         BallCalled      0.973684    0.940704    3.298061\n",
      "           StrikeCalled    0.026316    0.059296   -3.298061\n",
      "FA         BallCalled      0.904167    0.836110    6.805628\n",
      "           StrikeCalled    0.095833    0.163890   -6.805628\n",
      "SL         BallCalled      0.935310    0.923868    1.144214\n",
      "           StrikeCalled    0.064690    0.076132   -1.144214\n",
      "Catcher: [('Right', 1005), ('Left', 228)]\n",
      "Others: [('Right', 66936), ('Left', 16207), ('R', 7), ('L', 1)]\n",
      "                           pitch_call  pitch_call  pitch_call\n",
      "pitcher_side pitch_call                                      \n",
      "Left         BallCalled      0.929825    0.828284   10.154049\n",
      "             StrikeCalled    0.070175    0.171716  -10.154049\n",
      "Right        BallCalled      0.937313    0.907329    2.998404\n",
      "             StrikeCalled    0.062687    0.092671   -2.998404\n",
      "Catcher: [('Right', 834), ('Left', 399)]\n",
      "Others: [('Right', 59312), ('Left', 23831), ('R', 6), ('L', 2)]\n",
      "                          pitch_call  pitch_call  pitch_call\n",
      "batter_side pitch_call                                      \n",
      "Left        BallCalled      0.952381    0.941463    1.091815\n",
      "            StrikeCalled    0.047619    0.058537   -1.091815\n",
      "Right       BallCalled      0.928058    0.872016    5.604177\n",
      "            StrikeCalled    0.071942    0.127984   -5.604177\n"
     ]
    }
   ],
   "source": [
    "temp3 = x[(x['plate_height'] <2.5) & (x['plate_side'] <-.71) ]\n",
    "temp2 = x[(x['plate_height'] <1.5) & (x['plate_side'] >-.71)&(x['plate_side'] < 0) ]\n",
    "temp3o = xo[(dfcatcho['plate_height'] < 2.5)  & (xo['plate_side'] <-.71)]\n",
    "temp2o = xo[(xo['plate_height'] <1.5) & (xo['plate_side'] >-.71)&(xo['plate_side'] < 0) ]\n",
    "temp1 = pd.concat([temp3,temp2])\n",
    "temp1o = pd.concat([temp3o,temp2o])\n",
    "\n",
    "all(temp1,temp1o)\n",
    "type(temp1,temp1o)\n",
    "pitcher(temp1,temp1o)\n",
    "batter(temp1,temp1o)"
   ]
  },
  {
   "cell_type": "markdown",
   "metadata": {},
   "source": [
    "### Zone 1 "
   ]
  },
  {
   "cell_type": "code",
   "execution_count": 307,
   "metadata": {},
   "outputs": [
    {
     "name": "stdout",
     "output_type": "stream",
     "text": [
      "Catcher: [('StrikeCalled', 57), ('BallCalled', 14)]\n",
      "Others: [('StrikeCalled', 2788), ('BallCalled', 909)]\n",
      "              pitch_call  pitch_call  pitch_call\n",
      "pitch_call                                      \n",
      "BallCalled      0.197183    0.245875   -4.869194\n",
      "StrikeCalled    0.802817    0.754125    4.869194\n",
      "Catcher: [('FA', 45), ('SL', 13), ('CU', 8), ('CH', 5)]\n",
      "Others: [('FA', 2178), ('SL', 741), ('CU', 528), ('CH', 243), ('KN', 3), ('XX', 2), (nan, 2)]\n",
      "                         pitch_call  pitch_call  pitch_call\n",
      "pitch_type pitch_call                                      \n",
      "CH         BallCalled      0.200000    0.189300    1.069959\n",
      "           StrikeCalled    0.800000    0.810700   -1.069959\n",
      "CU         BallCalled      0.125000    0.210227   -8.522727\n",
      "           StrikeCalled    0.875000    0.789773    8.522727\n",
      "FA         BallCalled      0.244444    0.267677   -2.323232\n",
      "           StrikeCalled    0.755556    0.732323    2.323232\n",
      "SL         BallCalled      0.076923    0.225371  -14.844804\n",
      "           StrikeCalled    0.923077    0.774629   14.844804\n",
      "Catcher: [('Right', 43), ('Left', 28)]\n",
      "Others: [('Right', 2827), ('Left', 870)]\n",
      "                           pitch_call  pitch_call  pitch_call\n",
      "pitcher_side pitch_call                                      \n",
      "Left         BallCalled      0.142857    0.247126  -10.426929\n",
      "             StrikeCalled    0.857143    0.752874   10.426929\n",
      "Right        BallCalled      0.232558    0.245490   -1.293178\n",
      "             StrikeCalled    0.767442    0.754510    1.293178\n",
      "Catcher: [('Right', 38), ('Left', 33)]\n",
      "Others: [('Left', 2011), ('Right', 1686)]\n",
      "                          pitch_call  pitch_call  pitch_call\n",
      "batter_side pitch_call                                      \n",
      "Left        BallCalled      0.151515    0.231228   -7.971309\n",
      "            StrikeCalled    0.848485    0.768772    7.971309\n",
      "Right       BallCalled      0.236842    0.263345   -2.650309\n",
      "            StrikeCalled    0.763158    0.736655    2.650309\n"
     ]
    }
   ],
   "source": [
    "temp1 = x[(x['plate_height'] >2.833) & (x['plate_height'] < 3.5) & \\\n",
    "          (x['plate_side'] <.71) & (x['plate_side'] > 0.47) ]\n",
    "temp1o = xo[(xo['plate_height'] >2.833) & (xo['plate_height'] < 3.5) & \\\n",
    "          (xo['plate_side'] <.71) & (xo['plate_side'] > 0.47) ]\n",
    "\n",
    "all(temp1,temp1o)\n",
    "type(temp1,temp1o)\n",
    "pitcher(temp1,temp1o)\n",
    "batter(temp1,temp1o)"
   ]
  },
  {
   "cell_type": "markdown",
   "metadata": {},
   "source": [
    "### Zone 2 "
   ]
  },
  {
   "cell_type": "code",
   "execution_count": 308,
   "metadata": {},
   "outputs": [
    {
     "name": "stdout",
     "output_type": "stream",
     "text": [
      "Catcher: [('StrikeCalled', 182), ('BallCalled', 24)]\n",
      "Others: [('StrikeCalled', 10503), ('BallCalled', 1791)]\n",
      "              pitch_call  pitch_call  pitch_call\n",
      "pitch_call                                      \n",
      "BallCalled      0.116505    0.145681   -2.917597\n",
      "StrikeCalled    0.883495    0.854319    2.917597\n",
      "Catcher: [('FA', 126), ('SL', 47), ('CU', 24), ('CH', 9)]\n",
      "Others: [('FA', 7069), ('SL', 2800), ('CU', 1752), ('CH', 638), ('KN', 26), (nan, 7), ('XX', 2)]\n",
      "                         pitch_call  pitch_call  pitch_call\n",
      "pitch_type pitch_call                                      \n",
      "CH         StrikeCalled    1.000000    0.899687   10.031348\n",
      "CU         BallCalled      0.083333    0.122146   -3.881279\n",
      "           StrikeCalled    0.916667    0.877854    3.881279\n",
      "FA         BallCalled      0.142857    0.164521   -2.166401\n",
      "           StrikeCalled    0.857143    0.835479    2.166401\n",
      "SL         BallCalled      0.085106    0.123929   -3.882219\n",
      "           StrikeCalled    0.914894    0.876071    3.882219\n",
      "Catcher: [('Right', 121), ('Left', 85)]\n",
      "Others: [('Right', 8809), ('Left', 3484), ('R', 1)]\n",
      "                           pitch_call  pitch_call  pitch_call\n",
      "pitcher_side pitch_call                                      \n",
      "Left         BallCalled      0.129412    0.142365   -1.295333\n",
      "             StrikeCalled    0.870588    0.857635    1.295333\n",
      "Right        BallCalled      0.107438    0.147009   -3.957072\n",
      "             StrikeCalled    0.892562    0.852991    3.957072\n",
      "Catcher: [('Right', 123), ('Left', 83)]\n",
      "Others: [('Right', 7391), ('Left', 4902), ('L', 1)]\n",
      "                          pitch_call  pitch_call  pitch_call\n",
      "batter_side pitch_call                                      \n",
      "Left        BallCalled      0.096386    0.150347   -5.396126\n",
      "            StrikeCalled    0.903614    0.849653    5.396126\n",
      "Right       BallCalled      0.130081    0.142606   -1.252457\n",
      "            StrikeCalled    0.869919    0.857394    1.252457\n"
     ]
    }
   ],
   "source": [
    "temp1 = x[(x['plate_height'] >2.833) & (x['plate_height'] < 3.5) & \\\n",
    "          (x['plate_side'] >-.47) & (x['plate_side'] < 0.47) ]\n",
    "temp1o = xo[(xo['plate_height'] >2.833) & (xo['plate_height'] < 3.5) & \\\n",
    "          (xo['plate_side'] >-.47) & (xo['plate_side'] < 0.47) ]\n",
    "\n",
    "all(temp1,temp1o)\n",
    "type(temp1,temp1o)\n",
    "pitcher(temp1,temp1o)\n",
    "batter(temp1,temp1o)"
   ]
  },
  {
   "cell_type": "markdown",
   "metadata": {},
   "source": [
    "### Zone 3 "
   ]
  },
  {
   "cell_type": "code",
   "execution_count": 309,
   "metadata": {},
   "outputs": [
    {
     "name": "stdout",
     "output_type": "stream",
     "text": [
      "Catcher: [('StrikeCalled', 37), ('BallCalled', 16)]\n",
      "Others: [('StrikeCalled', 2568), ('BallCalled', 827)]\n",
      "              pitch_call  pitch_call  pitch_call\n",
      "pitch_call                                      \n",
      "BallCalled      0.301887    0.243594    5.829327\n",
      "StrikeCalled    0.698113    0.756406   -5.829327\n",
      "Catcher: [('FA', 32), ('SL', 11), ('CU', 5), ('CH', 5)]\n",
      "Others: [('FA', 2169), ('SL', 705), ('CU', 359), ('CH', 149), ('KN', 8), (nan, 4), ('XX', 1)]\n",
      "                         pitch_call  pitch_call  pitch_call\n",
      "pitch_type pitch_call                                      \n",
      "CH         BallCalled      0.200000    0.167785    3.221477\n",
      "           StrikeCalled    0.800000    0.832215   -3.221477\n",
      "CU         BallCalled      0.200000    0.178273    2.172702\n",
      "           StrikeCalled    0.800000    0.821727   -2.172702\n",
      "FA         BallCalled      0.343750    0.272476    7.127420\n",
      "           StrikeCalled    0.656250    0.727524   -7.127420\n",
      "SL         BallCalled      0.272727    0.207092    6.563507\n",
      "           StrikeCalled    0.727273    0.792908   -6.563507\n",
      "Catcher: [('Right', 29), ('Left', 24)]\n",
      "Others: [('Right', 2260), ('Left', 1135)]\n",
      "                           pitch_call  pitch_call  pitch_call\n",
      "pitcher_side pitch_call                                      \n",
      "Left         BallCalled      0.250000    0.259031   -0.903084\n",
      "             StrikeCalled    0.750000    0.740969    0.903084\n",
      "Right        BallCalled      0.344828    0.235841   10.898688\n",
      "             StrikeCalled    0.655172    0.764159  -10.898688\n",
      "Catcher: [('Right', 34), ('Left', 19)]\n",
      "Others: [('Right', 2326), ('Left', 1069)]\n",
      "                          pitch_call  pitch_call  pitch_call\n",
      "batter_side pitch_call                                      \n",
      "Left        BallCalled      0.210526    0.290926   -8.039978\n",
      "            StrikeCalled    0.789474    0.709074    8.039978\n",
      "Right       BallCalled      0.352941    0.221840   13.110111\n",
      "            StrikeCalled    0.647059    0.778160  -13.110111\n"
     ]
    }
   ],
   "source": [
    "temp1 = x[(x['plate_height'] >2.833) & (x['plate_height'] < 3.5) & \\\n",
    "          (x['plate_side'] < -.47) & (x['plate_side'] > -0.71) ]\n",
    "temp1o = xo[(xo['plate_height'] >2.833) & (xo['plate_height'] < 3.5) & \\\n",
    "          (xo['plate_side'] < -.47) & (xo['plate_side'] > -0.71) ]\n",
    "\n",
    "all(temp1,temp1o)\n",
    "type(temp1,temp1o)\n",
    "pitcher(temp1,temp1o)\n",
    "batter(temp1,temp1o)"
   ]
  },
  {
   "cell_type": "markdown",
   "metadata": {},
   "source": [
    "### Zone 4"
   ]
  },
  {
   "cell_type": "code",
   "execution_count": 310,
   "metadata": {},
   "outputs": [
    {
     "name": "stdout",
     "output_type": "stream",
     "text": [
      "Catcher: [('StrikeCalled', 91), ('BallCalled', 3)]\n",
      "Others: [('StrikeCalled', 4464), ('BallCalled', 91)]\n",
      "              pitch_call  pitch_call  pitch_call\n",
      "pitch_call                                      \n",
      "BallCalled      0.031915    0.019978    1.193685\n",
      "StrikeCalled    0.968085    0.980022   -1.193685\n",
      "Catcher: [('FA', 54), ('CU', 15), ('SL', 14), ('CH', 11)]\n",
      "Others: [('FA', 2702), ('SL', 944), ('CU', 636), ('CH', 266), (nan, 4), ('KN', 2), ('XX', 1)]\n",
      "                         pitch_call  pitch_call  pitch_call\n",
      "pitch_type pitch_call                                      \n",
      "CH         StrikeCalled    1.000000    0.977444    2.255639\n",
      "CU         BallCalled      0.066667    0.014151    5.251572\n",
      "           StrikeCalled    0.933333    0.985849   -5.251572\n",
      "FA         BallCalled      0.037037    0.022206    1.483126\n",
      "           StrikeCalled    0.962963    0.977794   -1.483126\n",
      "SL         StrikeCalled    1.000000    0.985169    1.483051\n",
      "Catcher: [('Right', 60), ('Left', 34)]\n",
      "Others: [('Right', 3318), ('Left', 1236), ('R', 1)]\n",
      "                           pitch_call  pitch_call  pitch_call\n",
      "pitcher_side pitch_call                                      \n",
      "Left         BallCalled      0.058824    0.033981    2.484295\n",
      "             StrikeCalled    0.941176    0.966019   -2.484295\n",
      "Right        BallCalled      0.016667    0.014768    0.189873\n",
      "             StrikeCalled    0.983333    0.985232   -0.189873\n",
      "Catcher: [('Left', 57), ('Right', 37)]\n",
      "Others: [('Left', 2575), ('Right', 1979), ('L', 1)]\n",
      "                          pitch_call  pitch_call  pitch_call\n",
      "batter_side pitch_call                                      \n",
      "Left        BallCalled      0.035088    0.013592    2.149549\n",
      "            StrikeCalled    0.964912    0.986408   -2.149549\n",
      "Right       BallCalled      0.027027    0.028297   -0.127009\n",
      "            StrikeCalled    0.972973    0.971703    0.127009\n"
     ]
    }
   ],
   "source": [
    "temp1 = x[(x['plate_height'] <2.833) & (x['plate_height'] > 2.166) & \\\n",
    "          (x['plate_side'] <.71) & (x['plate_side'] > 0.47) ]\n",
    "temp1o = xo[(xo['plate_height'] <2.833) & (xo['plate_height'] > 2.166) & \\\n",
    "          (xo['plate_side'] <.71) & (xo['plate_side'] > 0.47) ]\n",
    "\n",
    "all(temp1,temp1o)\n",
    "type(temp1,temp1o)\n",
    "pitcher(temp1,temp1o)\n",
    "batter(temp1,temp1o)"
   ]
  },
  {
   "cell_type": "markdown",
   "metadata": {},
   "source": [
    "### ZONE 5"
   ]
  },
  {
   "cell_type": "code",
   "execution_count": 311,
   "metadata": {},
   "outputs": [
    {
     "name": "stdout",
     "output_type": "stream",
     "text": [
      "Catcher: [('StrikeCalled', 255)]\n",
      "Others: [('StrikeCalled', 17240), ('BallCalled', 24)]\n",
      "              pitch_call  pitch_call  pitch_call\n",
      "StrikeCalled         1.0     0.99861    0.139018\n",
      "Catcher: [('FA', 158), ('SL', 49), ('CU', 27), ('CH', 21)]\n",
      "Others: [('FA', 9960), ('SL', 3765), ('CU', 2499), ('CH', 1005), (nan, 17), ('KN', 14), ('XX', 4)]\n",
      "                         pitch_call  pitch_call  pitch_call\n",
      "pitch_type pitch_call                                      \n",
      "CH         StrikeCalled         1.0    0.997015    0.298507\n",
      "CU         StrikeCalled         1.0    0.999200    0.080032\n",
      "FA         StrikeCalled         1.0    0.998695    0.130522\n",
      "SL         StrikeCalled         1.0    0.998938    0.106242\n",
      "Catcher: [('Right', 160), ('Left', 95)]\n",
      "Others: [('Right', 12430), ('Left', 4833), ('R', 1)]\n",
      "                           pitch_call  pitch_call  pitch_call\n",
      "pitcher_side pitch_call                                      \n",
      "Left         StrikeCalled         1.0    0.999793    0.020691\n",
      "Right        StrikeCalled         1.0    0.998150    0.185036\n",
      "Catcher: [('Right', 146), ('Left', 109)]\n",
      "Others: [('Right', 10362), ('Left', 6901), ('R', 1)]\n",
      "                          pitch_call  pitch_call  pitch_call\n",
      "batter_side pitch_call                                      \n",
      "Left        StrikeCalled         1.0    0.998261    0.173888\n",
      "Right       StrikeCalled         1.0    0.998842    0.115808\n"
     ]
    }
   ],
   "source": [
    "temp1 = x[(x['plate_height'] <2.833) & (x['plate_height'] > 2.166) & \\\n",
    "          (x['plate_side'] >-.47) & (x['plate_side'] < 0.47) ]\n",
    "temp1o = xo[(xo['plate_height'] <2.833) & (xo['plate_height'] > 2.166) & \\\n",
    "          (xo['plate_side'] >-.47) & (xo['plate_side'] < 0.47) ]\n",
    "\n",
    "all(temp1,temp1o)\n",
    "type(temp1,temp1o)\n",
    "pitcher(temp1,temp1o)\n",
    "batter(temp1,temp1o)                                                                                                     "
   ]
  },
  {
   "cell_type": "markdown",
   "metadata": {},
   "source": [
    "### Zone 6"
   ]
  },
  {
   "cell_type": "code",
   "execution_count": 312,
   "metadata": {},
   "outputs": [
    {
     "name": "stdout",
     "output_type": "stream",
     "text": [
      "Catcher: [('StrikeCalled', 68), ('BallCalled', 6)]\n",
      "Others: [('StrikeCalled', 4861), ('BallCalled', 137)]\n",
      "              pitch_call  pitch_call  pitch_call\n",
      "pitch_call                                      \n",
      "BallCalled      0.081081    0.027411    5.367012\n",
      "StrikeCalled    0.918919    0.972589   -5.367012\n",
      "Catcher: [('FA', 49), ('SL', 17), ('CU', 6), ('CH', 2)]\n",
      "Others: [('FA', 3229), ('SL', 997), ('CU', 523), ('CH', 237), ('KN', 7), (nan, 4), ('XX', 1)]\n",
      "                         pitch_call  pitch_call  pitch_call\n",
      "pitch_type pitch_call                                      \n",
      "CH         StrikeCalled    1.000000    0.978903    2.109705\n",
      "CU         StrikeCalled    1.000000    0.982792    1.720841\n",
      "FA         BallCalled      0.102041    0.032208    6.983270\n",
      "           StrikeCalled    0.897959    0.967792   -6.983270\n",
      "SL         BallCalled      0.058824    0.019057    3.976636\n",
      "           StrikeCalled    0.941176    0.980943   -3.976636\n",
      "Catcher: [('Right', 52), ('Left', 22)]\n",
      "Others: [('Right', 3543), ('Left', 1455)]\n",
      "                           pitch_call  pitch_call  pitch_call\n",
      "pitcher_side pitch_call                                      \n",
      "Left         BallCalled      0.136364    0.018557   11.780694\n",
      "             StrikeCalled    0.863636    0.981443  -11.780694\n",
      "Right        BallCalled      0.057692    0.031047    2.664517\n",
      "             StrikeCalled    0.942308    0.968953   -2.664517\n",
      "Catcher: [('Right', 50), ('Left', 24)]\n",
      "Others: [('Right', 3624), ('Left', 1374)]\n",
      "                          pitch_call  pitch_call  pitch_call\n",
      "batter_side pitch_call                                      \n",
      "Left        BallCalled      0.083333    0.057496    2.583697\n",
      "            StrikeCalled    0.916667    0.942504   -2.583697\n",
      "Right       BallCalled      0.080000    0.016004    6.399558\n",
      "            StrikeCalled    0.920000    0.983996   -6.399558\n"
     ]
    }
   ],
   "source": [
    "temp1 = x[(x['plate_height'] <2.833) & (x['plate_height'] > 2.166) & \\\n",
    "          (x['plate_side'] < -.47) & (x['plate_side'] > -0.71) ]\n",
    "temp1o = xo[(xo['plate_height'] <2.833) & (xo['plate_height'] > 2.166) & \\\n",
    "          (xo['plate_side'] < -.47) & (xo['plate_side'] > -0.71) ]\n",
    "\n",
    "all(temp1,temp1o)\n",
    "type(temp1,temp1o)\n",
    "pitcher(temp1,temp1o)\n",
    "batter(temp1,temp1o)                                                                                                     "
   ]
  },
  {
   "cell_type": "markdown",
   "metadata": {},
   "source": [
    "### ZONE 7"
   ]
  },
  {
   "cell_type": "code",
   "execution_count": 313,
   "metadata": {},
   "outputs": [
    {
     "name": "stdout",
     "output_type": "stream",
     "text": [
      "Catcher: [('StrikeCalled', 64), ('BallCalled', 18)]\n",
      "Others: [('StrikeCalled', 4232), ('BallCalled', 713)]\n",
      "              pitch_call  pitch_call  pitch_call\n",
      "pitch_call                                      \n",
      "BallCalled      0.219512    0.144186    7.532615\n",
      "StrikeCalled    0.780488    0.855814   -7.532615\n",
      "Catcher: [('FA', 51), ('SL', 18), ('CH', 8), ('CU', 5)]\n",
      "Others: [('FA', 3026), ('SL', 924), ('CU', 542), ('CH', 449), (nan, 2), ('KN', 2)]\n",
      "                         pitch_call  pitch_call  pitch_call\n",
      "pitch_type pitch_call                                      \n",
      "CH         BallCalled      0.250000    0.202673    4.732739\n",
      "           StrikeCalled    0.750000    0.797327   -4.732739\n",
      "CU         BallCalled      0.200000    0.158672    4.132841\n",
      "           StrikeCalled    0.800000    0.841328   -4.132841\n",
      "FA         BallCalled      0.176471    0.128222    4.824851\n",
      "           StrikeCalled    0.823529    0.871778   -4.824851\n",
      "SL         BallCalled      0.333333    0.159091   17.424242\n",
      "           StrikeCalled    0.666667    0.840909  -17.424242\n",
      "Catcher: [('Right', 50), ('Left', 32)]\n",
      "Others: [('Right', 3278), ('Left', 1666), ('R', 1)]\n",
      "                           pitch_call  pitch_call  pitch_call\n",
      "pitcher_side pitch_call                                      \n",
      "Left         BallCalled       0.28125    0.205882    7.536765\n",
      "             StrikeCalled     0.71875    0.794118   -7.536765\n",
      "Right        BallCalled       0.18000    0.112874    6.712630\n",
      "             StrikeCalled     0.82000    0.887126   -6.712630\n",
      "Catcher: [('Left', 53), ('Right', 29)]\n",
      "Others: [('Left', 2804), ('Right', 2140), ('L', 1)]\n",
      "                          pitch_call  pitch_call  pitch_call\n",
      "batter_side pitch_call                                      \n",
      "Left        BallCalled      0.245283    0.102354   14.292924\n",
      "            StrikeCalled    0.754717    0.897646  -14.292924\n",
      "Right       BallCalled      0.172414    0.199065   -2.665163\n",
      "            StrikeCalled    0.827586    0.800935    2.665163\n"
     ]
    }
   ],
   "source": [
    "temp1 = x[(x['plate_height'] >1.5) & (x['plate_height'] < 2.166) & \\\n",
    "          (x['plate_side'] <.71) & (x['plate_side'] > 0.47) ]\n",
    "temp1o = xo[(xo['plate_height'] >1.5) & (xo['plate_height'] < 2.166) & \\\n",
    "          (xo['plate_side'] <.71) & (xo['plate_side'] > 0.47) ]\n",
    "\n",
    "all(temp1,temp1o)\n",
    "type(temp1,temp1o)\n",
    "pitcher(temp1,temp1o)\n",
    "batter(temp1,temp1o)"
   ]
  },
  {
   "cell_type": "markdown",
   "metadata": {},
   "source": [
    "### Zone 8"
   ]
  },
  {
   "cell_type": "code",
   "execution_count": 314,
   "metadata": {},
   "outputs": [
    {
     "name": "stdout",
     "output_type": "stream",
     "text": [
      "Catcher: [('StrikeCalled', 234), ('BallCalled', 53)]\n",
      "Others: [('StrikeCalled', 18683), ('BallCalled', 2218)]\n",
      "              pitch_call  pitch_call  pitch_call\n",
      "pitch_call                                      \n",
      "BallCalled      0.184669    0.106119    7.854967\n",
      "StrikeCalled    0.815331    0.893881   -7.854967\n",
      "Catcher: [('FA', 190), ('SL', 43), ('CH', 28), ('CU', 26)]\n",
      "Others: [('FA', 12814), ('SL', 3983), ('CU', 2396), ('CH', 1682), (nan, 13), ('KN', 9), ('XX', 4)]\n",
      "                         pitch_call  pitch_call  pitch_call\n",
      "pitch_type pitch_call                                      \n",
      "CH         BallCalled      0.428571    0.140904   28.766774\n",
      "           StrikeCalled    0.571429    0.859096  -28.766774\n",
      "CU         BallCalled      0.115385    0.118531   -0.314627\n",
      "           StrikeCalled    0.884615    0.881469    0.314627\n",
      "FA         BallCalled      0.163158    0.099579    6.357931\n",
      "           StrikeCalled    0.836842    0.900421   -6.357931\n",
      "SL         BallCalled      0.162791    0.104946    5.784468\n",
      "           StrikeCalled    0.837209    0.895054   -5.784468\n",
      "Catcher: [('Right', 194), ('Left', 93)]\n",
      "Others: [('Right', 14806), ('Left', 6094), ('R', 1)]\n",
      "                           pitch_call  pitch_call  pitch_call\n",
      "pitcher_side pitch_call                                      \n",
      "Left         BallCalled      0.258065    0.108796   14.926898\n",
      "             StrikeCalled    0.741935    0.891204  -14.926898\n",
      "Right        BallCalled      0.149485    0.105025    4.445955\n",
      "             StrikeCalled    0.850515    0.894975   -4.445955\n",
      "Catcher: [('Right', 153), ('Left', 134)]\n",
      "Others: [('Right', 12229), ('Left', 8671), ('R', 1)]\n",
      "                          pitch_call  pitch_call  pitch_call\n",
      "batter_side pitch_call                                      \n",
      "Left        BallCalled      0.171642    0.100911    7.073071\n",
      "            StrikeCalled    0.828358    0.899089   -7.073071\n",
      "Right       BallCalled      0.196078    0.109821    8.625751\n",
      "            StrikeCalled    0.803922    0.890179   -8.625751\n"
     ]
    }
   ],
   "source": [
    "temp1 = x[(x['plate_height'] <2.166) & (x['plate_height'] > 1.5) & \\\n",
    "          (x['plate_side'] >-.47) & (x['plate_side'] < 0.47) ]\n",
    "temp1o = xo[(xo['plate_height'] <2.166) & (xo['plate_height'] > 1.5) & \\\n",
    "          (xo['plate_side'] >-.47) & (xo['plate_side'] < 0.47) ]\n",
    "\n",
    "all(temp1,temp1o)\n",
    "type(temp1,temp1o)\n",
    "pitcher(temp1,temp1o)\n",
    "batter(temp1,temp1o)"
   ]
  },
  {
   "cell_type": "markdown",
   "metadata": {},
   "source": [
    "### Zone 9"
   ]
  },
  {
   "cell_type": "code",
   "execution_count": 315,
   "metadata": {},
   "outputs": [
    {
     "name": "stdout",
     "output_type": "stream",
     "text": [
      "Catcher: [('StrikeCalled', 55), ('BallCalled', 22)]\n",
      "Others: [('StrikeCalled', 5043), ('BallCalled', 1088)]\n",
      "              pitch_call  pitch_call  pitch_call\n",
      "pitch_call                                      \n",
      "BallCalled      0.285714    0.177459   10.825547\n",
      "StrikeCalled    0.714286    0.822541  -10.825547\n",
      "Catcher: [('FA', 48), ('SL', 19), ('CU', 6), ('CH', 4)]\n",
      "Others: [('FA', 3892), ('SL', 1247), ('CU', 567), ('CH', 415), ('KN', 7), (nan, 2), ('XX', 1)]\n",
      "                         pitch_call  pitch_call  pitch_call\n",
      "pitch_type pitch_call                                      \n",
      "CH         BallCalled      0.500000    0.289157   21.084337\n",
      "           StrikeCalled    0.500000    0.710843  -21.084337\n",
      "CU         BallCalled      0.166667    0.195767   -2.910053\n",
      "           StrikeCalled    0.833333    0.804233    2.910053\n",
      "FA         BallCalled      0.270833    0.156989   11.384464\n",
      "           StrikeCalled    0.729167    0.843011  -11.384464\n",
      "SL         BallCalled      0.315789    0.195670   12.011987\n",
      "           StrikeCalled    0.684211    0.804330  -12.011987\n",
      "Catcher: [('Right', 57), ('Left', 20)]\n",
      "Others: [('Right', 4605), ('Left', 1525), ('R', 1)]\n",
      "                           pitch_call  pitch_call  pitch_call\n",
      "pitcher_side pitch_call                                      \n",
      "Left         BallCalled      0.150000    0.116721    3.327869\n",
      "             StrikeCalled    0.850000    0.883279   -3.327869\n",
      "Right        BallCalled      0.333333    0.197394   13.593920\n",
      "             StrikeCalled    0.666667    0.802606  -13.593920\n",
      "Catcher: [('Right', 57), ('Left', 20)]\n",
      "Others: [('Right', 4486), ('Left', 1644), ('L', 1)]\n",
      "                          pitch_call  pitch_call  pitch_call\n",
      "batter_side pitch_call                                      \n",
      "Left        BallCalled      0.500000    0.298662   20.133820\n",
      "            StrikeCalled    0.500000    0.701338  -20.133820\n",
      "Right       BallCalled      0.210526    0.132858    7.766854\n",
      "            StrikeCalled    0.789474    0.867142   -7.766854\n"
     ]
    }
   ],
   "source": [
    "temp1 = x[(x['plate_height'] >1.5) & (x['plate_height'] < 2.166) & \\\n",
    "          (x['plate_side'] < -.47) & (x['plate_side'] > -0.71) ]\n",
    "temp1o = xo[(xo['plate_height'] >1.5) & (xo['plate_height'] < 2.166) & \\\n",
    "          (xo['plate_side'] < -.47) & (xo['plate_side'] > -0.71) ]\n",
    "\n",
    "all(temp1,temp1o)\n",
    "type(temp1,temp1o)\n",
    "pitcher(temp1,temp1o)\n",
    "batter(temp1,temp1o)  "
   ]
  },
  {
   "cell_type": "code",
   "execution_count": null,
   "metadata": {},
   "outputs": [],
   "source": []
  },
  {
   "cell_type": "code",
   "execution_count": null,
   "metadata": {},
   "outputs": [],
   "source": []
  }
 ],
 "metadata": {
  "kernelspec": {
   "display_name": "Python 3",
   "language": "python",
   "name": "python3"
  },
  "language_info": {
   "codemirror_mode": {
    "name": "ipython",
    "version": 3
   },
   "file_extension": ".py",
   "mimetype": "text/x-python",
   "name": "python",
   "nbconvert_exporter": "python",
   "pygments_lexer": "ipython3",
   "version": "3.6.8"
  }
 },
 "nbformat": 4,
 "nbformat_minor": 2
}
